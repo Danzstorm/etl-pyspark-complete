{
 "cells": [
  {
   "cell_type": "markdown",
   "id": "3a96a805",
   "metadata": {},
   "source": [
    "# Exploración de Datos - Entregas de Productos\n",
    "\n",
    "Este notebook contiene el análisis exploratorio de los datos de entregas de productos para entender la estructura, calidad y patrones en los datos."
   ]
  },
  {
   "cell_type": "code",
   "execution_count": null,
   "id": "c286b512",
   "metadata": {},
   "outputs": [],
   "source": [
    "# Importaciones necesarias\n",
    "import sys\n",
    "from pathlib import Path\n",
    "import pandas as pd\n",
    "import numpy as np\n",
    "import matplotlib.pyplot as plt\n",
    "import seaborn as sns\n",
    "from datetime import datetime\n",
    "\n",
    "# Configurar matplotlib\n",
    "plt.style.use('seaborn-v0_8')\n",
    "plt.rcParams['figure.figsize'] = (12, 8)\n",
    "plt.rcParams['font.size'] = 10\n",
    "\n",
    "# Añadir src al path\n",
    "\n",
    "sys.path.append(str(Path('..') / 'src'))\n",
    "print(\"Librerías importadas exitosamente\")"
   ]
  },
  {
   "cell_type": "markdown",
   "id": "b55d58a8",
   "metadata": {},
   "source": [
    "## 1. Carga de Datos"
   ]
  },
  {
   "cell_type": "code",
   "execution_count": null,
   "id": "781ad46d",
   "metadata": {},
   "outputs": [],
   "source": [
    "# Cargar datos con pandas para exploración inicial\n",
    "\n",
    "data_path = Path('..') / 'data' / 'raw' / 'entregas_productos_prueba.csv'\n",
    "\n",
    "if data_path.exists():\n",
    "   df = pd.read_csv(data_path)\n",
    "   print(f\"Datos cargados: {len(df)} registros, {len(df.columns)} columnas\")\n",
    "   print(f\"Tamaño del archivo: {data_path.stat().st_size / 1024:.2f} KB\")\n",
    "   print(f\"Archivo no encontrado: {data_path}\")\n",
    "   print(\"Por favor, coloca el archivo CSV en la carpeta data/raw/\")"
   ]
  }
 ],
 "metadata": {
  "language_info": {
   "name": "python"
  }
 },
 "nbformat": 4,
 "nbformat_minor": 5
}
